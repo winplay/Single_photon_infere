{
 "cells": [
  {
   "cell_type": "code",
   "execution_count": null,
   "metadata": {},
   "outputs": [],
   "source": [
    "import os,sys\n",
    "sys.path.append('/home/zkd/文档/ION/Desktop/241209_393锁定/code')\n",
    "from Photon_infere import *"
   ]
  },
  {
   "cell_type": "code",
   "execution_count": null,
   "metadata": {},
   "outputs": [],
   "source": [
    "os.chdir(r'/mnt/webdav1/2.3_DI-QKD/0.0_Charlie/raw_data/0226_alice_EIT_radial&axial')"
   ]
  },
  {
   "cell_type": "code",
   "execution_count": null,
   "metadata": {},
   "outputs": [],
   "source": [
    "fold=os.listdir()\n",
    "for i,_ in enumerate(fold):\n",
    "    print(i,_)"
   ]
  },
  {
   "cell_type": "markdown",
   "metadata": {},
   "source": [
    "## Gamma Distribution"
   ]
  },
  {
   "cell_type": "code",
   "execution_count": null,
   "metadata": {},
   "outputs": [],
   "source": [
    "sys_json=read_sys_json('sys.json')\n",
    "\n",
    "# 荧光计数窗口\n",
    "window_start=sys_json['window_start(ps)']\n",
    "window_end=sys_json['window_end(ps)']\n",
    "# 分析数据截至时间\n",
    "period=sys_json['period(s)']\n",
    "time_start=sys_json['time_start(s)']\n",
    "time_stop=sys_json['time_stop(s)']\n",
    "#脉冲\n",
    "pulse_num=sys_json['pulse_num']\n",
    "pulse_interval=sys_json['pulse_interval(ps)'] \n",
    "\n",
    "# turn=sys_json['turns'][3]\n",
    "\n",
    "# 移动窗口\n",
    "window_start_list=np.array(sys_json['window_start_list(ns)'])*1e3 #ps\n",
    "window_len=sys_json['window_len(ns)']*1e3 #ps\n",
    "folds=sys_json['turns']\n",
    "out_csv='gamma_res_time_t_{:.0f}ns.csv'.format(window_len/1e3)\n",
    "print('outfile name: ',out_csv)"
   ]
  },
  {
   "cell_type": "code",
   "execution_count": null,
   "metadata": {},
   "outputs": [],
   "source": [
    "\n",
    "for turn in folds:\n",
    "    # 分析数据截至时间\n",
    "    for window_start in window_start_list:\n",
    "        window_end=window_start+window_len\n",
    "\n",
    "        pmt1_df=read_id900_binary(turn,3)\n",
    "        pmt2_df=read_id900_binary(turn,4)\n",
    "        ## 时间限制\n",
    "        pmt1_df=pmt1_df[(pmt1_df['time_satmp']>=time_start/period)&(pmt1_df['time_satmp']<=time_stop/period)].copy()\n",
    "        pmt2_df=pmt2_df[(pmt2_df['time_satmp']>=time_start/period)&(pmt2_df['time_satmp']<=time_stop/period)].copy()\n",
    "        ## 计算时间窗内光子数\n",
    "        pmt1_index=window_index(pmt1_df,window_start,window_end,pulse_num=pulse_num,pulse_interval=pulse_interval)\n",
    "        pmt2_index=window_index(pmt2_df,window_start,window_end,pulse_num=pulse_num,pulse_interval=pulse_interval)\n",
    "        pmt1_count=pmt1_df[pmt1_index]['start_index'].value_counts().sort_index(ascending=True)\n",
    "        pmt2_count=pmt2_df[pmt2_index]['start_index'].value_counts().sort_index(ascending=True)\n",
    "        PMT1_SUM=pmt1_count.sum()\n",
    "        PMT2_SUM=pmt2_count.sum()\n",
    "        print('pmt1:{}, pmt2:{}'.format(PMT1_SUM,PMT2_SUM))\n",
    "        ## 写入文件\n",
    "        try:\n",
    "            with open(out_csv, 'r') as f:\n",
    "                pass\n",
    "        except FileNotFoundError:\n",
    "            # 文件不存在，写入标题\n",
    "            with open(out_csv, 'w') as f:\n",
    "                f.write('turn,state,start(ps),end(ps),pmt1,pmt2\\n')\n",
    "\n",
    "        with open(out_csv,'a') as f:\n",
    "            f.write('{a},origin,{t0:.0f},{t1:.0f},{pmt1:.0f},{pmt2:.0f}\\n'.format(a=turn.split('_')[0],t0=window_start,t1=window_end,pmt1=PMT1_SUM,pmt2=PMT2_SUM))\n",
    "\n"
   ]
  },
  {
   "cell_type": "markdown",
   "metadata": {},
   "source": [
    "## Get Gamma & window"
   ]
  },
  {
   "cell_type": "code",
   "execution_count": null,
   "metadata": {},
   "outputs": [],
   "source": [
    "# out_csv='gamma_res_time_t.csv'\n",
    "res_data=pd.read_csv(out_csv)\n",
    "count2gamma(res_data)\n",
    "res_data.sort_values(by='turn',inplace=True)\n",
    "origin_df=res_data[res_data['state']=='origin']\n",
    "choice_df=res_data[res_data['state']=='select']\n",
    "origin_df['phase'].unique()"
   ]
  },
  {
   "cell_type": "code",
   "execution_count": null,
   "metadata": {},
   "outputs": [],
   "source": [
    "origin_df['delta']=origin_df['end(ps)']-origin_df['start(ps)']\n",
    "out_dict={'t0':[],'gamma':[],'gamma_err':[],'phase_offset':[],'phase_offset_err':[],'pmt1':[],'pmt2':[]}\n",
    "for start_t in origin_df['start(ps)'].unique():\n",
    "    df00=origin_df[origin_df['start(ps)']==start_t]\n",
    "    delta_t=df00['start(ps)'].values[0]/1000\n",
    "    print('window len :{:.0f}ns'.format(delta_t),end=' | ')\n",
    "    param,param_err=estimate_gamma(df00,model_func=model_func_count_offset)\n",
    "    # plt.savefig('gamma_fit_{}.png'.format(delta_t))\n",
    "    plt.close()\n",
    "    out_dict['t0'].append(df00['start(ps)'].values[0])\n",
    "    out_dict['gamma'].append(param[0])\n",
    "    out_dict['gamma_err'].append(param_err[0])\n",
    "    out_dict['phase_offset'].append(param[1])\n",
    "    out_dict['phase_offset_err'].append(param_err[1])\n",
    "    out_dict['pmt1'].append(df00['pmt1'].sum())\n",
    "    out_dict['pmt2'].append(df00['pmt2'].sum())\n",
    "\n",
    "out_dict=pd.DataFrame(data=out_dict)\n",
    "out_dict['gamma']=np.abs(out_dict['gamma'])\n",
    "out_dict.sort_values(by='t0',inplace=True)\n",
    "title_txt='{:.0f}ns window move, MAX gamma={:.2%}'.format(window_len*1e-3,np.max(out_dict['gamma']))\n",
    "plt.subplot(211)\n",
    "plt.errorbar(out_dict['t0']/1000,out_dict['gamma']*100,yerr=out_dict['gamma_err']*100,fmt='-.o',label='experimental data',capsize=5)\n",
    "plt.xlabel('start time [ns]')\n",
    "plt.ylabel('gamma [%]')\n",
    "plt.title(title_txt)\n",
    "plt.grid()\n",
    "plt.subplot(212)\n",
    "\n",
    "start_list=(out_dict['t0'].values-out_dict['t0'].values[0])/1000\n",
    "phase=out_dict['phase_offset'].values\n",
    "phase=np.unwrap(phase)\n",
    "liner=lambda x, a, b: 2*np.pi*a*x+b\n",
    "if np.isinf(phase).any():\n",
    "    param,covariance=curve_fit(liner, start_list, phase)\n",
    "else:\n",
    "    param,covariance=curve_fit(liner, start_list, phase,sigma=out_dict['phase_offset_err'])\n",
    "est_phase=liner(start_list, *param)\n",
    "r_squared=1-np.sum((est_phase-phase)**2)/np.sum((phase-np.mean(phase))**2)\n",
    "plt.errorbar(start_list,phase*180/np.pi,yerr=out_dict['phase_offset_err']*180/np.pi,fmt='o',label='experimental data',capsize=5)\n",
    "plt.plot(start_list,est_phase*180/np.pi,'-.',label='fit {:.1%}±{:.1%}'.format(np.abs(param[0]),np.sqrt(np.diag(covariance))[0]))\n",
    "plt.xlabel('start time [ns]')\n",
    "plt.ylabel('phase offset [deg]')\n",
    "plt.title('LS estimae $f$: {:.3f}±{:.3f} MHz, $R^2=${:.1%}'.format(np.abs(param[0])*1e3,np.sqrt(np.diag(covariance))[0]*1e3,r_squared))\n",
    "plt.grid()\n",
    "plt.tight_layout()\n",
    "plt.savefig('df_{:.0f}ns_window_fit.jpeg'.format(window_len*1e-3),dpi=300)\n",
    "plt.show()"
   ]
  },
  {
   "cell_type": "code",
   "execution_count": null,
   "metadata": {},
   "outputs": [],
   "source": [
    "plt.plot(out_dict['t0']*1e-3,out_dict['pmt1'],'-o',label='pmt1')\n",
    "plt.plot(out_dict['t0']*1e-3,out_dict['pmt2'],'-o',label='pmt2')\n",
    "plt.plot(out_dict['t0']*1e-3,(out_dict['pmt1']+out_dict['pmt2'])/2,'-.x',label='mean')\n",
    "plt.title('count with {:.0f}ns window move'.format(window_len*1e-3))\n",
    "plt.xlabel('start time[ns]')\n",
    "plt.ylabel('count')\n",
    "plt.legend()\n",
    "plt.grid()\n",
    "plt.show()"
   ]
  },
  {
   "cell_type": "code",
   "execution_count": null,
   "metadata": {},
   "outputs": [],
   "source": []
  }
 ],
 "metadata": {
  "kernelspec": {
   "display_name": "base",
   "language": "python",
   "name": "python3"
  },
  "language_info": {
   "codemirror_mode": {
    "name": "ipython",
    "version": 3
   },
   "file_extension": ".py",
   "mimetype": "text/x-python",
   "name": "python",
   "nbconvert_exporter": "python",
   "pygments_lexer": "ipython3",
   "version": "3.12.7"
  }
 },
 "nbformat": 4,
 "nbformat_minor": 2
}
