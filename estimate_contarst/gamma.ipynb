{
 "cells": [
  {
   "cell_type": "markdown",
   "metadata": {},
   "source": [
    "## 初始化与计算"
   ]
  },
  {
   "cell_type": "code",
   "execution_count": null,
   "metadata": {},
   "outputs": [],
   "source": [
    "import os,sys\n",
    "sys.path.append('/home/zkd/文档/ION/Desktop/241209_393锁定/code')\n",
    "from Photon_infere import *"
   ]
  },
  {
   "cell_type": "markdown",
   "metadata": {},
   "source": [
    "1. 创建对应turn的文件夹，将变量名`turn`改为对应值  \n",
    "    1. 将ID1000文件夹下C3、C4的bin文件复制到turn文件夹下  \n",
    "        C3、C4的bin文件夹名与ARTIQ中`experiment label`一致.  \n",
    "        例如turn_0.635_C3_xxx.bin、turn_0.635_C4_xxx.bin,其中xxx为采数启动时间  \n",
    "    2. 将alice、bob的谈探测文件复制到turn文件夹下，文件名分别更正为Alice.txt、Bob.txt  \n",
    "    \n",
    "2. 修改`period`为对应周期，单位为[s]  \n",
    "\n",
    "3. 修改`window_start`、`window_end`为荧光计数窗口，一般与ID1000的窗口保持一致，单位为[ps]\n",
    "\n",
    "4. 修改`time_start`、`time_stop`为分析数据截至时间，单位为[s]"
   ]
  },
  {
   "cell_type": "code",
   "execution_count": null,
   "metadata": {},
   "outputs": [],
   "source": [
    "fold=os.listdir()\n",
    "turns=[]\n",
    "for i,_ in enumerate(fold):\n",
    "    try:\n",
    "        \"{}\".format(float(_.split('_')[0]))\n",
    "        turns.append(_)\n",
    "    except:\n",
    "        pass\n",
    "    print(i,_)\n",
    "print(str(turns).replace('\\'','\"'))"
   ]
  },
  {
   "cell_type": "markdown",
   "metadata": {},
   "source": [
    "### 计算光子数"
   ]
  },
  {
   "cell_type": "code",
   "execution_count": null,
   "metadata": {},
   "outputs": [],
   "source": [
    "sys_json=read_sys_json('sys.json')\n",
    "\n",
    "# 荧光计数窗口\n",
    "window_start=sys_json['window_start(ps)']\n",
    "window_end=sys_json['window_end(ps)']\n",
    "# 分析数据截至时间\n",
    "period=sys_json['period(s)']\n",
    "time_start=sys_json['time_start(s)']\n",
    "time_stop=sys_json['time_stop(s)']\n",
    "#脉冲\n",
    "pulse_num=sys_json['pulse_num']\n",
    "pulse_interval=sys_json['pulse_interval(ps)']\n",
    "\n",
    "turn=sys_json['turns'][-1]"
   ]
  },
  {
   "cell_type": "code",
   "execution_count": null,
   "metadata": {},
   "outputs": [],
   "source": [
    "pmt1_df=read_id900_binary(turn,3)\n",
    "pmt2_df=read_id900_binary(turn,4)\n",
    "## 时间限制\n",
    "pmt1_df=pmt1_df[(pmt1_df['start_index']>=time_start/period)&(pmt1_df['start_index']<=time_stop/period)].copy()\n",
    "pmt2_df=pmt2_df[(pmt2_df['start_index']>=time_start/period)&(pmt2_df['start_index']<=time_stop/period)].copy()\n",
    "## 计算时间窗内光子数\n",
    "pmt1_index=window_index(pmt1_df,window_start,window_end,pulse_num=pulse_num,pulse_interval=pulse_interval)\n",
    "pmt2_index=window_index(pmt2_df,window_start,window_end,pulse_num=pulse_num,pulse_interval=pulse_interval)\n",
    "pmt1_count=pmt1_df[pmt1_index]['start_index'].value_counts().sort_index(ascending=True)\n",
    "pmt2_count=pmt2_df[pmt2_index]['start_index'].value_counts().sort_index(ascending=True)\n",
    "PMT1_SUM=pmt1_count.sum()\n",
    "PMT2_SUM=pmt2_count.sum()\n",
    "print('pmt1:{}, pmt2:{}'.format(PMT1_SUM,PMT2_SUM))\n",
    "max_time=max(pmt1_count.index.max(),pmt2_count.index.max())*period\n",
    "print('cps1:{}, cps2:{}'.format(PMT1_SUM/max_time,PMT2_SUM/max_time))"
   ]
  },
  {
   "cell_type": "markdown",
   "metadata": {},
   "source": [
    "## 时域分布"
   ]
  },
  {
   "cell_type": "code",
   "execution_count": null,
   "metadata": {},
   "outputs": [],
   "source": [
    "### 光子时间分布 \n",
    "def hist_count(pmt1_df,pmt2_df,bin_t):\n",
    "    \"\"\"\n",
    "    计数窗口内的光子数量，并绘制直方图展示不同探测器的光子计数随时间的分布。\n",
    "\n",
    "    参数:\n",
    "    pmt1_df (pandas.DataFrame): 第一个探测器的数据框，包含 'time_satmp' 列。\n",
    "    pmt2_df (pandas.DataFrame): 第二个探测器的数据框，包含 'time_satmp' 列。\n",
    "    bin_t (int): 直方图的时间间隔，单位为皮秒 (ps)。\n",
    "\n",
    "    返回:\n",
    "    无\n",
    "    \"\"\"\n",
    "    hist_time_wid=20e3 # unit ps\n",
    "    # bin_t=1000 #ps\n",
    "    pmt1_hist_index=window_index(pmt1_df,window_start-hist_time_wid,window_end+hist_time_wid,pulse_num=pulse_num,pulse_interval=pulse_interval)\n",
    "    pmt2_hist_index=window_index(pmt2_df,window_start-hist_time_wid,window_end+hist_time_wid,pulse_num=pulse_num,pulse_interval=pulse_interval)\n",
    "    pmt1_hist_ts=pmt1_df['time_satmp'][pmt1_hist_index]%pulse_interval\n",
    "    pmt2_hist_ts=pmt2_df['time_satmp'][pmt2_hist_index]%pulse_interval\n",
    "    info='windwos start:{:,.1f}ns, end:{:,.1f}ns, bin width:{:.1f}ns \\n'.format(window_start/1e3,window_end/1e3, bin_t/1e3)\n",
    "    info+='pulse num:{}, pmt1:{:,.0f}, pmt2:{:,.0f}'.format(pulse_num,PMT1_SUM,PMT2_SUM)\n",
    "    bin_wid=int((window_end-window_start+2*hist_time_wid)//bin_t) # width of bin is 100ps \n",
    "    plt.hist(pmt1_hist_ts/1000,bins=bin_wid,label='pmt1',alpha=0.7)\n",
    "    plt.hist(pmt2_hist_ts/1000,bins=bin_wid,label='pmt2',alpha=0.7)\n",
    "    plt.xlabel('time (ns)')\n",
    "    plt.ylabel('counts')\n",
    "    plt.axvline(window_start/1000,color='r',linestyle='-.',label='start:{:.1f}ns'.format(window_start/1000))\n",
    "    plt.axvline(window_end/1000,color='b',linestyle='-.',label='end:{:.1f}ns'.format(window_end/1000))\n",
    "    plt.legend(loc=1)\n",
    "    plt.title(info)\n",
    "    plt.tight_layout()\n",
    "    plt.grid()\n",
    "print(' TDC histgram with pulse num:{}, pulse interval:{:.1f}us.'.format(pulse_num,pulse_interval/1e6))\n",
    "hist_count(pmt1_df,pmt2_df,bin_t=1000)\n",
    "plt.savefig('./{}/histgram.jpeg'.format(turn),dpi=300)\n",
    "plt.show()\n",
    "### PMT 计数时间累积\n",
    "def plot_cumsum(pmt1_count,pmt2_count,period=500e-6):\n",
    "    \"画出累加计数和相位估计\"\n",
    "    max_time=max(pmt1_count.index.max(),pmt2_count.index.max())\n",
    "    time_index=np.arange(0,max_time+1,1)\n",
    "    pmt1=np.zeros_like(time_index)\n",
    "    pmt2=np.zeros_like(time_index)\n",
    "    pmt1[pmt1_count.index]=pmt1_count.values\n",
    "    pmt2[pmt2_count.index]=pmt2_count.values\n",
    "    pmt1=pmt1.cumsum()\n",
    "    pmt2=pmt2.cumsum()\n",
    "    es_phase=(pmt1-pmt2)/(pmt1+pmt2)\n",
    "    es_phase[es_phase!=es_phase]=0\n",
    "    fig=plt.figure(figsize=(8,6))\n",
    "    plt.subplot(211)\n",
    "    plt.plot(time_index*period,pmt1,label='pmt1')\n",
    "    plt.plot(time_index*period,pmt2,label='pmt2')\n",
    "    plt.plot(time_index*period,pmt1+pmt2,label='sum')\n",
    "    plt.axvline(time_start,color='r',linestyle='-.')\n",
    "    plt.axvline(time_stop,color='r',linestyle='-.')\n",
    "    plt.xlim(0,max_time*period+10)\n",
    "    plt.legend(loc=2)\n",
    "    plt.title('intergrate counts, pulse num:{:.0f}'.format(pulse_num))\n",
    "    plt.xlabel('time (s)')\n",
    "    plt.ylabel('counts')\n",
    "    plt.grid()\n",
    "    plt.subplot(212)\n",
    "    plt.plot(time_index*period,es_phase,label='gamma')\n",
    "    plt.axvline(time_start,color='r',linestyle='-.')\n",
    "    plt.axvline(time_stop,color='r',linestyle='-.')\n",
    "    plt.xlim(0,max_time*period+10)\n",
    "    plt.xlabel('time (s)')\n",
    "    plt.ylabel(r'$\\gamma \\cos{\\phi}$')\n",
    "    plt.title('turn:{}, phase:{:.3f}°'.format(turn,float(turn.split('_')[0])*360*2))\n",
    "    plt.grid()\n",
    "    plt.tight_layout()\n",
    "    return fig\n",
    "print('cumsum with pulse num:{:.0f}.'.format(pulse_num))\n",
    "plot_cumsum(pmt1_count,pmt2_count,period=period)\n",
    "plt.savefig('./{}/count_with_gamma_10pulse.jpeg'.format(turn),dpi=300)\n",
    "plt.show()"
   ]
  },
  {
   "cell_type": "markdown",
   "metadata": {},
   "source": [
    "## 单脉冲分析"
   ]
  },
  {
   "cell_type": "code",
   "execution_count": null,
   "metadata": {},
   "outputs": [],
   "source": [
    "def pulse_count_df(pmt1_df,pmt2_df,pulse_interval=5e6,pulse_num=10,pulse_offset=0):\n",
    "    \"\"\"\n",
    "    计算两个数据框（pmt1_df 和 pmt2_df）在一系列脉冲时间窗口内的脉冲计数，并将结果存储在一个 DataFrame 中。\n",
    "\n",
    "    参数:\n",
    "    pmt1_df (pandas.DataFrame): 第一个数据框，包含脉冲时间戳和起始索引。\n",
    "    pmt2_df (pandas.DataFrame): 第二个数据框，包含脉冲时间戳和起始索引。\n",
    "    pulse_interval (float, 可选): 脉冲间隔时间，默认为 5e6 ps。\n",
    "    pulse_num (int, 可选): 要处理的脉冲数量，默认为 10。\n",
    "    pulse_offset (int, 可选): 脉冲计数的起始偏移量，默认为 0。\n",
    "\n",
    "    返回:  \n",
    "    pandas.DataFrame: 包含每个脉冲的时间和两个数据框的脉冲计数的 DataFrame。\n",
    "    \"\"\"\n",
    "    pulse_dict={'time[us]':[],'pmt1':[],'pmt2':[]}\n",
    "    for pulse_i in range(pulse_offset,pulse_num):\n",
    "        pulse_start=window_start+pulse_i*pulse_interval\n",
    "        pulse_end=window_end+pulse_i*pulse_interval\n",
    "        pmt1_pulse_index=window_index(pmt1_df,pulse_start,pulse_end)\n",
    "        pmt2_pulse_index=window_index(pmt2_df,pulse_start,pulse_end)\n",
    "        pmt1_pulse_count=pmt1_df[pmt1_pulse_index]['start_index'].value_counts().sort_index(ascending=True)\n",
    "        pmt2_pulse_count=pmt2_df[pmt2_pulse_index]['start_index'].value_counts().sort_index(ascending=True)\n",
    "\n",
    "        pulse_dict['time[us]'].append(pulse_i*pulse_interval*1e-6)\n",
    "        pulse_dict['pmt1'].append(sum(pmt1_pulse_count))\n",
    "        pulse_dict['pmt2'].append(sum(pmt2_pulse_count))\n",
    "    return pd.DataFrame(pulse_dict)\n",
    "\n",
    "pulse_df=pulse_count_df(pmt1_df,pmt2_df,pulse_num=pulse_num)\n",
    "print(pulse_df)\n",
    "print('all pmt1:{:,.0f}, pmt2:{:,.0f}'.format(np.sum(pulse_df['pmt1']),np.sum(pulse_df['pmt2'])))\n",
    "\n",
    "\n",
    "\n",
    "def plot_pulse_counts(pulse_df):\n",
    "    \"\"\"\n",
    "    绘制脉冲计数的可视化图表。\n",
    "\n",
    "    参数:  \n",
    "    pulse_df (pandas.DataFrame): 包含脉冲计数数据的 DataFrame，至少包含 'pmt1' 和 'pmt2' 列。\n",
    "\n",
    "    返回:  \n",
    "    matplotlib.figure.Figure: 包含绘制图表的 Figure 对象。\n",
    "    \"\"\"\n",
    "    fig = plt.figure(figsize=(8,6))\n",
    "    plt.subplot(2,1,1)\n",
    "    plt.plot(1+pulse_df.index,pulse_df['pmt1'],'o-',label='pmt1')\n",
    "    plt.plot(1+pulse_df.index,pulse_df['pmt2'],'o-',label='pmt2')\n",
    "    plt.plot(1+pulse_df.index,(pulse_df['pmt1']+pulse_df['pmt2'])/2,'x-.',label='mean')\n",
    "    plt.xticks(1+pulse_df.index)\n",
    "    plt.xlabel('Pulse index')\n",
    "    plt.ylabel('Counts')\n",
    "    plt.legend()\n",
    "    plt.grid()\n",
    "    plt.subplot(2,1,2)\n",
    "    if pulse_df['pmt1'].mean()>=pulse_df['pmt2'].mean():\n",
    "        plt.plot(1+pulse_df.index,pulse_df['pmt1']/pulse_df['pmt2'],'o-')\n",
    "    else:\n",
    "        plt.plot(1+pulse_df.index,pulse_df['pmt2']/pulse_df['pmt1'],'o-')\n",
    "    plt.xticks(1+pulse_df.index)\n",
    "    plt.xlabel('Pulse index')\n",
    "    plt.ylabel('Ratio')\n",
    "    plt.grid()\n",
    "    plt.tight_layout()\n",
    "    return fig\n",
    "\n",
    "plot_pulse_counts(pulse_df)\n",
    "plt.savefig('./{}/pulse_counts.jpeg'.format(turn),dpi=300)\n",
    "plt.show()"
   ]
  },
  {
   "cell_type": "markdown",
   "metadata": {},
   "source": [
    "## 输出到文件"
   ]
  },
  {
   "cell_type": "code",
   "execution_count": null,
   "metadata": {},
   "outputs": [],
   "source": [
    "out_csv='gamma_res_time.csv'\n",
    "try:\n",
    "    with open(out_csv, 'r') as f:\n",
    "        pass\n",
    "except FileNotFoundError:\n",
    "    # 文件不存在，写入标题\n",
    "    with open(out_csv, 'w') as f:\n",
    "        f.write('turn,state,start(ps),end(ps),pmt1,pmt2\\n')\n",
    "\n",
    "with open(out_csv,'a') as f:\n",
    "    f.write('{a},origin,{t0:.0f},{t1:.0f},{pmt1:.0f},{pmt2:.0f}\\n'.format(a=turn.split('_')[0],t0=window_start,t1=window_end,pmt1=PMT1_SUM,pmt2=PMT2_SUM))\n"
   ]
  },
  {
   "cell_type": "markdown",
   "metadata": {},
   "source": [
    "# Estimate gamma"
   ]
  },
  {
   "cell_type": "code",
   "execution_count": null,
   "metadata": {},
   "outputs": [],
   "source": [
    "out_csv='gamma_res_time.csv'\n",
    "res_data=pd.read_csv(out_csv)\n",
    "count2gamma(res_data)\n",
    "res_data.sort_values(by='turn',inplace=True)\n",
    "origin_df=res_data[res_data['state']=='origin']\n",
    "choice_df=res_data[res_data['state']=='select']\n",
    "print('-------------origin data-----------------')\n",
    "param_origin,param_origin_err=estimate_gamma(origin_df,model_func=model_func_count_offset)\n",
    "plt.savefig('gamma_fit.jpeg', dpi=300)\n",
    "plt.show()"
   ]
  },
  {
   "cell_type": "code",
   "execution_count": null,
   "metadata": {},
   "outputs": [],
   "source": [
    "best_phi_list=np.array([90,180,270,360,450,540,630])+param_origin[1]/np.pi*180//90*90\n",
    "best_turn_list=(best_phi_list-(param_origin[1]/np.pi*180))/360/2\n",
    "phase_array=np.linspace(0,360*2,500)\n",
    "turn_array=phase_array/360/2\n",
    "origin_fit=model_func_count_offset(phase_array,*param_origin)\n",
    "best_phase_list=best_turn_list*2*360\n",
    "\n",
    "fig = px.scatter(origin_df, x='phase', y='gamma',error_y='gamma_err',hover_data='turn',title='origin data, estimate gamma : {:.3%}'.format(np.abs(param_origin[0])))\n",
    "fig.add_scatter(x=phase_array, y=origin_fit, mode='lines', name='Cos Fit',hovertext=['turn={:.3}'.format(i) for i in turn_array],hovertemplate='gamma=%{y:.3f}<br>%{hovertext}')\n",
    "fig.add_scatter(x=best_phase_list,y=model_func_count_offset(best_phase_list,*param_origin),mode='markers',name='best phi',hovertext=['turn={:.3}'.format(i) for i in best_turn_list],hovertemplate='gamma=%{y:.3f}<br>%{hovertext}')\n",
    "fig.show()"
   ]
  }
 ],
 "metadata": {
  "kernelspec": {
   "display_name": "base",
   "language": "python",
   "name": "python3"
  },
  "language_info": {
   "codemirror_mode": {
    "name": "ipython",
    "version": 3
   },
   "file_extension": ".py",
   "mimetype": "text/x-python",
   "name": "python",
   "nbconvert_exporter": "python",
   "pygments_lexer": "ipython3",
   "version": "3.12.7"
  }
 },
 "nbformat": 4,
 "nbformat_minor": 2
}
