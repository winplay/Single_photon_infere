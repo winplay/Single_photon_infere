{
 "cells": [
  {
   "cell_type": "markdown",
   "metadata": {},
   "source": [
    "## 初始化与计算"
   ]
  },
  {
   "cell_type": "code",
   "execution_count": null,
   "metadata": {},
   "outputs": [],
   "source": [
    "import os,sys\n",
    "sys.path.append('/media/zkd/Windows/Users/ION/Desktop/241209_393锁定')\n",
    "from Photon_infere import *"
   ]
  },
  {
   "cell_type": "markdown",
   "metadata": {},
   "source": [
    "### 计算光子数"
   ]
  },
  {
   "cell_type": "code",
   "execution_count": null,
   "metadata": {},
   "outputs": [],
   "source": [
    "# 光计数窗口\n",
    "window_start=80*1e3 # unit ps\n",
    "window_end=112*1e3    # unit ps\n",
    "# 分析数据截至时间\n",
    "period=500e-6 # unit seconds\n",
    "time_start=000 # unit seconds\n",
    "time_stop=140000  # unit seconds\n",
    "#脉冲\n",
    "pulse_num=9\n",
    "pulse_interval=5e6 # unit ps  \n",
    "\n",
    "c3_path=''\n",
    "c4_path=''"
   ]
  },
  {
   "cell_type": "code",
   "execution_count": null,
   "metadata": {},
   "outputs": [],
   "source": [
    "pmt_array=np.fromfile(c3_path,dtype=np.uint64).reshape(-1,2)\n",
    "pmt1_df=pd.DataFrame(pmt_array,columns=['time_satmp','start_index'])\n",
    "pmt_array=np.fromfile(c4_path,dtype=np.uint64).reshape(-1,2)\n",
    "pmt2_df=pd.DataFrame(pmt_array,columns=['time_satmp','start_index'])\n",
    "## 时间限制\n",
    "pmt1_df=pmt1_df[(pmt1_df['start_index']>=time_start/period)&(pmt1_df['start_index']<=time_stop/period)].copy()\n",
    "pmt2_df=pmt2_df[(pmt2_df['start_index']>=time_start/period)&(pmt2_df['start_index']<=time_stop/period)].copy()\n",
    "## 计算时间窗内光子数\n",
    "pmt1_index=window_index(pmt1_df,window_start,window_end,pulse_num=pulse_num,pulse_interval=pulse_interval)\n",
    "pmt2_index=window_index(pmt2_df,window_start,window_end,pulse_num=pulse_num,pulse_interval=pulse_interval)\n",
    "pmt1_count=pmt1_df[pmt1_index]['start_index'].value_counts().sort_index(ascending=True)\n",
    "pmt2_count=pmt2_df[pmt2_index]['start_index'].value_counts().sort_index(ascending=True)\n",
    "PMT1_SUM=pmt1_count.sum()\n",
    "PMT2_SUM=pmt2_count.sum()\n",
    "print('pmt1:{}, pmt2:{}'.format(PMT1_SUM,PMT2_SUM))\n",
    "max_time=max(pmt1_count.index.max(),pmt2_count.index.max())*period\n",
    "print('cps1:{}, cps2:{}'.format(PMT1_SUM/max_time,PMT2_SUM/max_time))"
   ]
  },
  {
   "cell_type": "markdown",
   "metadata": {},
   "source": [
    "## 时域分布"
   ]
  },
  {
   "cell_type": "code",
   "execution_count": null,
   "metadata": {},
   "outputs": [],
   "source": [
    "### 光子时间分布 \n",
    "def hist_count(pmt1_df,pmt2_df,bin_t):\n",
    "    \"\"\"\n",
    "    计数窗口内的光子数量，并绘制直方图展示不同探测器的光子计数随时间的分布。\n",
    "\n",
    "    参数:\n",
    "    pmt1_df (pandas.DataFrame): 第一个探测器的数据框，包含 'time_satmp' 列。\n",
    "    pmt2_df (pandas.DataFrame): 第二个探测器的数据框，包含 'time_satmp' 列。\n",
    "    bin_t (int): 直方图的时间间隔，单位为皮秒 (ps)。\n",
    "\n",
    "    返回:\n",
    "    无\n",
    "    \"\"\"\n",
    "    hist_time_wid=20e3 # unit ps\n",
    "    # bin_t=1000 #ps\n",
    "    pmt1_hist_index=window_index(pmt1_df,window_start-hist_time_wid,window_end+hist_time_wid,pulse_num=pulse_num,pulse_interval=pulse_interval)\n",
    "    pmt2_hist_index=window_index(pmt2_df,window_start-hist_time_wid,window_end+hist_time_wid,pulse_num=pulse_num,pulse_interval=pulse_interval)\n",
    "    pmt1_hist_ts=pmt1_df['time_satmp'][pmt1_hist_index]%pulse_interval\n",
    "    pmt2_hist_ts=pmt2_df['time_satmp'][pmt2_hist_index]%pulse_interval\n",
    "    info='windwos start:{:,.1f}ns, end:{:,.1f}ns, bin width:{:.1f}ns \\n'.format(window_start/1e3,window_end/1e3, bin_t/1e3)\n",
    "    info+='pulse num:{}, pmt1:{:,.0f}, pmt2:{:,.0f}'.format(pulse_num,PMT1_SUM,PMT2_SUM)\n",
    "    bin_wid=int((window_end-window_start+2*hist_time_wid)//bin_t) # width of bin is 100ps \n",
    "    plt.hist(pmt1_hist_ts/1000,bins=bin_wid,label='pmt1',alpha=0.7)\n",
    "    plt.hist(pmt2_hist_ts/1000,bins=bin_wid,label='pmt2',alpha=0.7)\n",
    "    plt.xlabel('time (ns)')\n",
    "    plt.ylabel('counts')\n",
    "    plt.axvline(window_start/1000,color='r',linestyle='-.',label='start:{:.1f}ns'.format(window_start/1000))\n",
    "    plt.axvline(window_end/1000,color='b',linestyle='-.',label='end:{:.1f}ns'.format(window_end/1000))\n",
    "    plt.legend(loc=1)\n",
    "    plt.title(info)\n",
    "    plt.tight_layout()\n",
    "    plt.grid()\n",
    "print(' TDC histgram with pulse num:{}, pulse interval:{:.1f}us.'.format(pulse_num,pulse_interval/1e6))\n",
    "hist_count(pmt1_df,pmt2_df,bin_t=1000)\n",
    "plt.show()\n",
    "### PMT 计数时间累积\n",
    "def plot_cumsum(pmt1_count,pmt2_count,period=500e-6):\n",
    "    \"画出累加计数和相位估计\"\n",
    "    max_time=max(pmt1_count.index.max(),pmt2_count.index.max())\n",
    "    time_index=np.arange(0,max_time+1,1)\n",
    "    pmt1=np.zeros_like(time_index)\n",
    "    pmt2=np.zeros_like(time_index)\n",
    "    pmt1[pmt1_count.index]=pmt1_count.values\n",
    "    pmt2[pmt2_count.index]=pmt2_count.values\n",
    "    pmt1=pmt1.cumsum()\n",
    "    pmt2=pmt2.cumsum()\n",
    "    time_len=time_index[-1]*period\n",
    "    cps1=pmt1[-1]/time_len\n",
    "    cps2=pmt2[-1]/time_len\n",
    "    print('cps1:{:.4f}, cps2:{:.4f}'.format(cps1,cps2))\n",
    "    fig=plt.figure(figsize=(8,6))\n",
    "    plt.plot(time_index*period,pmt1,label='pmt1 cps:{:.4f}'.format(cps1))\n",
    "    plt.plot(time_index*period,pmt2,label='pmt2 cps:{:.4f}'.format(cps2))\n",
    "    plt.plot(time_index*period,pmt1+pmt2,label='sum')\n",
    "    plt.axvline(time_start,color='r',linestyle='-.')\n",
    "    plt.axvline(time_stop,color='r',linestyle='-.')\n",
    "    plt.xlim(0,max_time*period+10)\n",
    "    plt.legend(loc=2)\n",
    "    plt.title('intergrate counts, pulse num:{:.0f}'.format(pulse_num))\n",
    "    plt.xlabel('time (s)')\n",
    "    plt.ylabel('counts')\n",
    "    plt.grid()\n",
    "    return fig\n",
    "print('cumsum with pulse num:{:.0f}.'.format(pulse_num))\n",
    "plot_cumsum(pmt1_count,pmt2_count,period=period)\n",
    "plt.show()"
   ]
  }
 ],
 "metadata": {
  "kernelspec": {
   "display_name": "base",
   "language": "python",
   "name": "python3"
  },
  "language_info": {
   "codemirror_mode": {
    "name": "ipython",
    "version": 3
   },
   "file_extension": ".py",
   "mimetype": "text/x-python",
   "name": "python",
   "nbconvert_exporter": "python",
   "pygments_lexer": "ipython3",
   "version": "3.12.7"
  }
 },
 "nbformat": 4,
 "nbformat_minor": 2
}
